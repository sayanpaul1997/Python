{
  "nbformat": 4,
  "nbformat_minor": 0,
  "metadata": {
    "colab": {
      "name": "Penicillin_Exploratory_data_analysis.ipynb",
      "provenance": [],
      "collapsed_sections": [
        "9YX45XuyvtG0"
      ]
    },
    "kernelspec": {
      "name": "python3",
      "display_name": "Python 3"
    }
  },
  "cells": [
    {
      "cell_type": "markdown",
      "metadata": {
        "id": "9YX45XuyvtG0"
      },
      "source": [
        "#**Drug Discovery of Penicillin binding protein 2b PART 2**"
      ]
    },
    {
      "cell_type": "markdown",
      "metadata": {
        "id": "XNUPOXucv_xt"
      },
      "source": [
        "#Exploratory Data Analysis\r\n",
        "A statistical method that analyze data sets to summarize their main characteristics, often with visual methods. This is the critical process of performing initial investigations on data so as to discover patterns,to spot anomalies,to test hypothesis, etc. "
      ]
    },
    {
      "cell_type": "code",
      "metadata": {
        "id": "KJDCWxNewEmt"
      },
      "source": [
        "#Libraries\r\n",
        "import pandas as pd\r\n",
        "import seaborn as sns\r\n"
      ],
      "execution_count": 1,
      "outputs": []
    },
    {
      "cell_type": "markdown",
      "metadata": {
        "id": "aTFjKlun2F-w"
      },
      "source": [
        "##Import conda packages "
      ]
    },
    {
      "cell_type": "code",
      "metadata": {
        "colab": {
          "base_uri": "https://localhost:8080/"
        },
        "id": "i83vLWRryiT4",
        "outputId": "e9118a01-82d1-4bc6-a74a-5a3a1988cf16"
      },
      "source": [
        "#reference code: \"https://colab.research.google.com/github/dataprofessor/code/blob/master/python/CDD_ML_Part_2_Exploratory_Data_Analysis.ipynb#scrollTo=o-4IOizard4P\"\r\n",
        "! wget https://repo.anaconda.com/miniconda/Miniconda3-py37_4.8.2-Linux-x86_64.sh\r\n",
        "! chmod +x Miniconda3-py37_4.8.2-Linux-x86_64.sh\r\n",
        "! bash ./Miniconda3-py37_4.8.2-Linux-x86_64.sh -b -f -p /usr/local\r\n",
        "! conda install -c rdkit rdkit -y\r\n",
        "import sys\r\n",
        "sys.path.append('/usr/local/lib/python3.7/site-packages/')"
      ],
      "execution_count": 2,
      "outputs": [
        {
          "output_type": "stream",
          "text": [
            "--2020-12-13 20:12:11--  https://repo.anaconda.com/miniconda/Miniconda3-py37_4.8.2-Linux-x86_64.sh\n",
            "Resolving repo.anaconda.com (repo.anaconda.com)... 104.16.130.3, 104.16.131.3, 2606:4700::6810:8303, ...\n",
            "Connecting to repo.anaconda.com (repo.anaconda.com)|104.16.130.3|:443... connected.\n",
            "HTTP request sent, awaiting response... 200 OK\n",
            "Length: 85055499 (81M) [application/x-sh]\n",
            "Saving to: ‘Miniconda3-py37_4.8.2-Linux-x86_64.sh’\n",
            "\n",
            "Miniconda3-py37_4.8 100%[===================>]  81.12M   170MB/s    in 0.5s    \n",
            "\n",
            "2020-12-13 20:12:11 (170 MB/s) - ‘Miniconda3-py37_4.8.2-Linux-x86_64.sh’ saved [85055499/85055499]\n",
            "\n",
            "PREFIX=/usr/local\n",
            "Unpacking payload ...\n",
            "Collecting package metadata (current_repodata.json): - \b\b\\ \b\b| \b\bdone\n",
            "Solving environment: - \b\bdone\n",
            "\n",
            "## Package Plan ##\n",
            "\n",
            "  environment location: /usr/local\n",
            "\n",
            "  added / updated specs:\n",
            "    - _libgcc_mutex==0.1=main\n",
            "    - asn1crypto==1.3.0=py37_0\n",
            "    - ca-certificates==2020.1.1=0\n",
            "    - certifi==2019.11.28=py37_0\n",
            "    - cffi==1.14.0=py37h2e261b9_0\n",
            "    - chardet==3.0.4=py37_1003\n",
            "    - conda-package-handling==1.6.0=py37h7b6447c_0\n",
            "    - conda==4.8.2=py37_0\n",
            "    - cryptography==2.8=py37h1ba5d50_0\n",
            "    - idna==2.8=py37_0\n",
            "    - ld_impl_linux-64==2.33.1=h53a641e_7\n",
            "    - libedit==3.1.20181209=hc058e9b_0\n",
            "    - libffi==3.2.1=hd88cf55_4\n",
            "    - libgcc-ng==9.1.0=hdf63c60_0\n",
            "    - libstdcxx-ng==9.1.0=hdf63c60_0\n",
            "    - ncurses==6.2=he6710b0_0\n",
            "    - openssl==1.1.1d=h7b6447c_4\n",
            "    - pip==20.0.2=py37_1\n",
            "    - pycosat==0.6.3=py37h7b6447c_0\n",
            "    - pycparser==2.19=py37_0\n",
            "    - pyopenssl==19.1.0=py37_0\n",
            "    - pysocks==1.7.1=py37_0\n",
            "    - python==3.7.6=h0371630_2\n",
            "    - readline==7.0=h7b6447c_5\n",
            "    - requests==2.22.0=py37_1\n",
            "    - ruamel_yaml==0.15.87=py37h7b6447c_0\n",
            "    - setuptools==45.2.0=py37_0\n",
            "    - six==1.14.0=py37_0\n",
            "    - sqlite==3.31.1=h7b6447c_0\n",
            "    - tk==8.6.8=hbc83047_0\n",
            "    - tqdm==4.42.1=py_0\n",
            "    - urllib3==1.25.8=py37_0\n",
            "    - wheel==0.34.2=py37_0\n",
            "    - xz==5.2.4=h14c3975_4\n",
            "    - yaml==0.1.7=had09818_2\n",
            "    - zlib==1.2.11=h7b6447c_3\n",
            "\n",
            "\n",
            "The following NEW packages will be INSTALLED:\n",
            "\n",
            "  _libgcc_mutex      pkgs/main/linux-64::_libgcc_mutex-0.1-main\n",
            "  asn1crypto         pkgs/main/linux-64::asn1crypto-1.3.0-py37_0\n",
            "  ca-certificates    pkgs/main/linux-64::ca-certificates-2020.1.1-0\n",
            "  certifi            pkgs/main/linux-64::certifi-2019.11.28-py37_0\n",
            "  cffi               pkgs/main/linux-64::cffi-1.14.0-py37h2e261b9_0\n",
            "  chardet            pkgs/main/linux-64::chardet-3.0.4-py37_1003\n",
            "  conda              pkgs/main/linux-64::conda-4.8.2-py37_0\n",
            "  conda-package-han~ pkgs/main/linux-64::conda-package-handling-1.6.0-py37h7b6447c_0\n",
            "  cryptography       pkgs/main/linux-64::cryptography-2.8-py37h1ba5d50_0\n",
            "  idna               pkgs/main/linux-64::idna-2.8-py37_0\n",
            "  ld_impl_linux-64   pkgs/main/linux-64::ld_impl_linux-64-2.33.1-h53a641e_7\n",
            "  libedit            pkgs/main/linux-64::libedit-3.1.20181209-hc058e9b_0\n",
            "  libffi             pkgs/main/linux-64::libffi-3.2.1-hd88cf55_4\n",
            "  libgcc-ng          pkgs/main/linux-64::libgcc-ng-9.1.0-hdf63c60_0\n",
            "  libstdcxx-ng       pkgs/main/linux-64::libstdcxx-ng-9.1.0-hdf63c60_0\n",
            "  ncurses            pkgs/main/linux-64::ncurses-6.2-he6710b0_0\n",
            "  openssl            pkgs/main/linux-64::openssl-1.1.1d-h7b6447c_4\n",
            "  pip                pkgs/main/linux-64::pip-20.0.2-py37_1\n",
            "  pycosat            pkgs/main/linux-64::pycosat-0.6.3-py37h7b6447c_0\n",
            "  pycparser          pkgs/main/linux-64::pycparser-2.19-py37_0\n",
            "  pyopenssl          pkgs/main/linux-64::pyopenssl-19.1.0-py37_0\n",
            "  pysocks            pkgs/main/linux-64::pysocks-1.7.1-py37_0\n",
            "  python             pkgs/main/linux-64::python-3.7.6-h0371630_2\n",
            "  readline           pkgs/main/linux-64::readline-7.0-h7b6447c_5\n",
            "  requests           pkgs/main/linux-64::requests-2.22.0-py37_1\n",
            "  ruamel_yaml        pkgs/main/linux-64::ruamel_yaml-0.15.87-py37h7b6447c_0\n",
            "  setuptools         pkgs/main/linux-64::setuptools-45.2.0-py37_0\n",
            "  six                pkgs/main/linux-64::six-1.14.0-py37_0\n",
            "  sqlite             pkgs/main/linux-64::sqlite-3.31.1-h7b6447c_0\n",
            "  tk                 pkgs/main/linux-64::tk-8.6.8-hbc83047_0\n",
            "  tqdm               pkgs/main/noarch::tqdm-4.42.1-py_0\n",
            "  urllib3            pkgs/main/linux-64::urllib3-1.25.8-py37_0\n",
            "  wheel              pkgs/main/linux-64::wheel-0.34.2-py37_0\n",
            "  xz                 pkgs/main/linux-64::xz-5.2.4-h14c3975_4\n",
            "  yaml               pkgs/main/linux-64::yaml-0.1.7-had09818_2\n",
            "  zlib               pkgs/main/linux-64::zlib-1.2.11-h7b6447c_3\n",
            "\n",
            "\n",
            "Preparing transaction: | \b\b/ \b\b- \b\b\\ \b\bdone\n",
            "Executing transaction: / \b\b- \b\b\\ \b\b| \b\b/ \b\b- \b\b\\ \b\b| \b\b/ \b\b- \b\b\\ \b\b| \b\b/ \b\b- \b\bdone\n",
            "installation finished.\n",
            "WARNING:\n",
            "    You currently have a PYTHONPATH environment variable set. This may cause\n",
            "    unexpected behavior when running the Python interpreter in Miniconda3.\n",
            "    For best results, please verify that your PYTHONPATH only points to\n",
            "    directories of packages that are compatible with the Python interpreter\n",
            "    in Miniconda3: /usr/local\n",
            "Collecting package metadata (current_repodata.json): - \b\b\\ \b\b| \b\b/ \b\b- \b\b\\ \b\b| \b\b/ \b\b- \b\b\\ \b\b| \b\b/ \b\b- \b\b\\ \b\b| \b\b/ \b\b- \b\bdone\n",
            "Solving environment: | \b\b/ \b\b- \b\b\\ \b\b| \b\b/ \b\b- \b\b\\ \b\b| \b\b/ \b\bdone\n",
            "\n",
            "## Package Plan ##\n",
            "\n",
            "  environment location: /usr/local\n",
            "\n",
            "  added / updated specs:\n",
            "    - rdkit\n",
            "\n",
            "\n",
            "The following packages will be downloaded:\n",
            "\n",
            "    package                    |            build\n",
            "    ---------------------------|-----------------\n",
            "    blas-1.0                   |              mkl           6 KB\n",
            "    bzip2-1.0.8                |       h7b6447c_0          78 KB\n",
            "    ca-certificates-2020.12.8  |       h06a4308_0         121 KB\n",
            "    cairo-1.14.12              |       h8948797_3         906 KB\n",
            "    certifi-2020.12.5          |   py37h06a4308_0         141 KB\n",
            "    conda-4.9.2                |   py37h06a4308_0         2.9 MB\n",
            "    fontconfig-2.13.0          |       h9420a91_0         227 KB\n",
            "    freetype-2.10.4            |       h5ab3b9f_0         596 KB\n",
            "    glib-2.66.1                |       h92f7085_0         2.9 MB\n",
            "    icu-58.2                   |       he6710b0_3        10.5 MB\n",
            "    intel-openmp-2020.2        |              254         786 KB\n",
            "    jpeg-9b                    |       h024ee3a_2         214 KB\n",
            "    lcms2-2.11                 |       h396b838_0         307 KB\n",
            "    libboost-1.73.0            |      hf484d3e_11        13.9 MB\n",
            "    libffi-3.3                 |       he6710b0_2          50 KB\n",
            "    libpng-1.6.37              |       hbc83047_0         278 KB\n",
            "    libtiff-4.1.0              |       h2733197_1         449 KB\n",
            "    libuuid-1.0.3              |       h1bed415_2          15 KB\n",
            "    libxcb-1.14                |       h7b6447c_0         505 KB\n",
            "    libxml2-2.9.10             |       hb55368b_3         1.2 MB\n",
            "    lz4-c-1.9.2                |       heb0550a_3         175 KB\n",
            "    mkl-2020.2                 |              256       138.3 MB\n",
            "    mkl-service-2.3.0          |   py37he8ac12f_0          52 KB\n",
            "    mkl_fft-1.2.0              |   py37h23d657b_0         148 KB\n",
            "    mkl_random-1.1.1           |   py37h0573a6f_0         322 KB\n",
            "    numpy-1.19.2               |   py37h54aff64_0          22 KB\n",
            "    numpy-base-1.19.2          |   py37hfa32c7d_0         4.1 MB\n",
            "    olefile-0.46               |           py37_0          50 KB\n",
            "    openssl-1.1.1i             |       h27cfd23_0         2.5 MB\n",
            "    pandas-1.1.3               |   py37he6710b0_0         8.1 MB\n",
            "    pcre-8.44                  |       he6710b0_0         212 KB\n",
            "    pillow-8.0.1               |   py37he98fc37_0         619 KB\n",
            "    pixman-0.40.0              |       h7b6447c_0         370 KB\n",
            "    py-boost-1.73.0            |  py37h04863e7_11         202 KB\n",
            "    python-dateutil-2.8.1      |             py_0         215 KB\n",
            "    pytz-2020.4                |     pyhd3eb1b0_0         180 KB\n",
            "    rdkit-2020.09.1.0          |   py37hd50e099_1        25.8 MB  rdkit\n",
            "    xz-5.2.5                   |       h7b6447c_0         341 KB\n",
            "    zstd-1.4.5                 |       h9ceee32_0         619 KB\n",
            "    ------------------------------------------------------------\n",
            "                                           Total:       218.3 MB\n",
            "\n",
            "The following NEW packages will be INSTALLED:\n",
            "\n",
            "  blas               pkgs/main/linux-64::blas-1.0-mkl\n",
            "  bzip2              pkgs/main/linux-64::bzip2-1.0.8-h7b6447c_0\n",
            "  cairo              pkgs/main/linux-64::cairo-1.14.12-h8948797_3\n",
            "  fontconfig         pkgs/main/linux-64::fontconfig-2.13.0-h9420a91_0\n",
            "  freetype           pkgs/main/linux-64::freetype-2.10.4-h5ab3b9f_0\n",
            "  glib               pkgs/main/linux-64::glib-2.66.1-h92f7085_0\n",
            "  icu                pkgs/main/linux-64::icu-58.2-he6710b0_3\n",
            "  intel-openmp       pkgs/main/linux-64::intel-openmp-2020.2-254\n",
            "  jpeg               pkgs/main/linux-64::jpeg-9b-h024ee3a_2\n",
            "  lcms2              pkgs/main/linux-64::lcms2-2.11-h396b838_0\n",
            "  libboost           pkgs/main/linux-64::libboost-1.73.0-hf484d3e_11\n",
            "  libpng             pkgs/main/linux-64::libpng-1.6.37-hbc83047_0\n",
            "  libtiff            pkgs/main/linux-64::libtiff-4.1.0-h2733197_1\n",
            "  libuuid            pkgs/main/linux-64::libuuid-1.0.3-h1bed415_2\n",
            "  libxcb             pkgs/main/linux-64::libxcb-1.14-h7b6447c_0\n",
            "  libxml2            pkgs/main/linux-64::libxml2-2.9.10-hb55368b_3\n",
            "  lz4-c              pkgs/main/linux-64::lz4-c-1.9.2-heb0550a_3\n",
            "  mkl                pkgs/main/linux-64::mkl-2020.2-256\n",
            "  mkl-service        pkgs/main/linux-64::mkl-service-2.3.0-py37he8ac12f_0\n",
            "  mkl_fft            pkgs/main/linux-64::mkl_fft-1.2.0-py37h23d657b_0\n",
            "  mkl_random         pkgs/main/linux-64::mkl_random-1.1.1-py37h0573a6f_0\n",
            "  numpy              pkgs/main/linux-64::numpy-1.19.2-py37h54aff64_0\n",
            "  numpy-base         pkgs/main/linux-64::numpy-base-1.19.2-py37hfa32c7d_0\n",
            "  olefile            pkgs/main/linux-64::olefile-0.46-py37_0\n",
            "  pandas             pkgs/main/linux-64::pandas-1.1.3-py37he6710b0_0\n",
            "  pcre               pkgs/main/linux-64::pcre-8.44-he6710b0_0\n",
            "  pillow             pkgs/main/linux-64::pillow-8.0.1-py37he98fc37_0\n",
            "  pixman             pkgs/main/linux-64::pixman-0.40.0-h7b6447c_0\n",
            "  py-boost           pkgs/main/linux-64::py-boost-1.73.0-py37h04863e7_11\n",
            "  python-dateutil    pkgs/main/noarch::python-dateutil-2.8.1-py_0\n",
            "  pytz               pkgs/main/noarch::pytz-2020.4-pyhd3eb1b0_0\n",
            "  rdkit              rdkit/linux-64::rdkit-2020.09.1.0-py37hd50e099_1\n",
            "  zstd               pkgs/main/linux-64::zstd-1.4.5-h9ceee32_0\n",
            "\n",
            "The following packages will be UPDATED:\n",
            "\n",
            "  ca-certificates                                2020.1.1-0 --> 2020.12.8-h06a4308_0\n",
            "  certifi                                 2019.11.28-py37_0 --> 2020.12.5-py37h06a4308_0\n",
            "  conda                                        4.8.2-py37_0 --> 4.9.2-py37h06a4308_0\n",
            "  libffi                                   3.2.1-hd88cf55_4 --> 3.3-he6710b0_2\n",
            "  openssl                                 1.1.1d-h7b6447c_4 --> 1.1.1i-h27cfd23_0\n",
            "  xz                                       5.2.4-h14c3975_4 --> 5.2.5-h7b6447c_0\n",
            "\n",
            "\n",
            "\n",
            "Downloading and Extracting Packages\n",
            "ca-certificates-2020 | 121 KB    | : 100% 1.0/1 [00:00<00:00,  7.97it/s]               \n",
            "numpy-1.19.2         | 22 KB     | : 100% 1.0/1 [00:00<00:00, 22.30it/s]\n",
            "numpy-base-1.19.2    | 4.1 MB    | : 100% 1.0/1 [00:00<00:00,  3.59it/s]\n",
            "libffi-3.3           | 50 KB     | : 100% 1.0/1 [00:00<00:00, 19.68it/s]\n",
            "icu-58.2             | 10.5 MB   | : 100% 1.0/1 [00:00<00:00, 65.61s/it]                \n",
            "olefile-0.46         | 50 KB     | : 100% 1.0/1 [00:00<00:00, 16.60it/s]\n",
            "libboost-1.73.0      | 13.9 MB   | : 100% 1.0/1 [00:01<00:00,  1.24s/it]               \n",
            "python-dateutil-2.8. | 215 KB    | : 100% 1.0/1 [00:00<00:00, 16.30it/s]\n",
            "libtiff-4.1.0        | 449 KB    | : 100% 1.0/1 [00:00<00:00, 15.16it/s]\n",
            "conda-4.9.2          | 2.9 MB    | : 100% 1.0/1 [00:00<00:00,  6.17it/s]\n",
            "blas-1.0             | 6 KB      | : 100% 1.0/1 [00:00<00:00, 18.04it/s]\n",
            "zstd-1.4.5           | 619 KB    | : 100% 1.0/1 [00:00<00:00, 12.98it/s]\n",
            "cairo-1.14.12        | 906 KB    | : 100% 1.0/1 [00:00<00:00, 11.39it/s]\n",
            "pixman-0.40.0        | 370 KB    | : 100% 1.0/1 [00:00<00:00, 12.99it/s]\n",
            "glib-2.66.1          | 2.9 MB    | : 100% 1.0/1 [00:00<00:00,  5.85it/s]\n",
            "openssl-1.1.1i       | 2.5 MB    | : 100% 1.0/1 [00:00<00:00,  7.61it/s]\n",
            "freetype-2.10.4      | 596 KB    | : 100% 1.0/1 [00:00<00:00, 13.74it/s]\n",
            "lcms2-2.11           | 307 KB    | : 100% 1.0/1 [00:00<00:00, 13.05it/s]\n",
            "pcre-8.44            | 212 KB    | : 100% 1.0/1 [00:00<00:00, 17.21it/s]\n",
            "mkl_random-1.1.1     | 322 KB    | : 100% 1.0/1 [00:00<00:00, 16.96it/s]\n",
            "mkl-service-2.3.0    | 52 KB     | : 100% 1.0/1 [00:00<00:00, 18.50it/s]\n",
            "xz-5.2.5             | 341 KB    | : 100% 1.0/1 [00:00<00:00, 11.08it/s]\n",
            "libuuid-1.0.3        | 15 KB     | : 100% 1.0/1 [00:00<00:00, 17.22it/s]\n",
            "libxcb-1.14          | 505 KB    | : 100% 1.0/1 [00:00<00:00, 11.84it/s]\n",
            "libpng-1.6.37        | 278 KB    | : 100% 1.0/1 [00:00<00:00, 17.00it/s]\n",
            "py-boost-1.73.0      | 202 KB    | : 100% 1.0/1 [00:00<00:00, 15.73it/s]\n",
            "libxml2-2.9.10       | 1.2 MB    | : 100% 1.0/1 [00:00<00:00,  7.75it/s]\n",
            "pytz-2020.4          | 180 KB    | : 100% 1.0/1 [00:00<00:00,  8.32it/s]\n",
            "fontconfig-2.13.0    | 227 KB    | : 100% 1.0/1 [00:00<00:00, 14.73it/s]\n",
            "pillow-8.0.1         | 619 KB    | : 100% 1.0/1 [00:00<00:00,  9.02it/s]\n",
            "bzip2-1.0.8          | 78 KB     | : 100% 1.0/1 [00:00<00:00, 16.98it/s]\n",
            "intel-openmp-2020.2  | 786 KB    | : 100% 1.0/1 [00:00<00:00, 10.27it/s]\n",
            "lz4-c-1.9.2          | 175 KB    | : 100% 1.0/1 [00:00<00:00,  1.81it/s]\n",
            "rdkit-2020.09.1.0    | 25.8 MB   | : 100% 1.0/1 [00:04<00:00,  4.71s/it]\n",
            "mkl_fft-1.2.0        | 148 KB    | : 100% 1.0/1 [00:00<00:00, 15.96it/s]\n",
            "pandas-1.1.3         | 8.1 MB    | : 100% 1.0/1 [00:00<00:00,  2.00it/s]\n",
            "jpeg-9b              | 214 KB    | : 100% 1.0/1 [00:00<00:00, 15.38it/s]\n",
            "mkl-2020.2           | 138.3 MB  | : 100% 1.0/1 [00:04<00:00,  4.97s/it]               \n",
            "certifi-2020.12.5    | 141 KB    | : 100% 1.0/1 [00:00<00:00,  1.46it/s]\n",
            "Preparing transaction: \\ \b\b| \b\b/ \b\b- \b\b\\ \b\b| \b\b/ \b\b- \b\b\\ \b\bdone\n",
            "Verifying transaction: / \b\b- \b\b\\ \b\b| \b\b/ \b\b- \b\b\\ \b\b| \b\b/ \b\b- \b\b\\ \b\b| \b\b/ \b\b- \b\b\\ \b\b| \b\b/ \b\b- \b\b\\ \b\b| \b\b/ \b\b- \b\b\\ \b\b| \b\b/ \b\b- \b\b\\ \b\bdone\n",
            "Executing transaction: / \b\b- \b\b\\ \b\b| \b\b/ \b\b- \b\b\\ \b\b| \b\b/ \b\b- \b\b\\ \b\b| \b\b/ \b\b- \b\b\\ \b\b| \b\b/ \b\b- \b\b\\ \b\b| \b\b/ \b\b- \b\b\\ \b\b| \b\b/ \b\b- \b\b\\ \b\b| \b\b/ \b\b- \b\b\\ \b\b| \b\b/ \b\b- \b\b\\ \b\b| \b\b/ \b\b- \b\b\\ \b\b| \b\b/ \b\b- \b\b\\ \b\b| \b\b/ \b\b- \b\b\\ \b\b| \b\b/ \b\b- \b\b\\ \b\b| \b\b/ \b\b- \b\b\\ \b\b| \b\b/ \b\b- \b\b\\ \b\b| \b\b/ \b\b- \b\b\\ \b\b| \b\b/ \b\b- \b\b\\ \b\b| \b\b/ \b\b- \b\b\\ \b\b| \b\b/ \b\b- \b\b\\ \b\b| \b\b/ \b\b- \b\b\\ \b\b| \b\b/ \b\b- \b\b\\ \b\b| \b\b/ \b\b- \b\b\\ \b\b| \b\b/ \b\b- \b\b\\ \b\b| \b\b/ \b\b- \b\b\\ \b\b| \b\b/ \b\b- \b\b\\ \b\b| \b\b/ \b\b- \b\b\\ \b\b| \b\b/ \b\b- \b\b\\ \b\b| \b\b/ \b\b- \b\b\\ \b\b| \b\b/ \b\b- \b\b\\ \b\b| \b\b/ \b\b- \b\b\\ \b\b| \b\b/ \b\b- \b\b\\ \b\b| \b\b/ \b\b- \b\b\\ \b\b| \b\b/ \b\b- \b\b\\ \b\b| \b\b/ \b\b- \b\b\\ \b\b| \b\b/ \b\b- \b\b\\ \b\b| \b\b/ \b\b- \b\b\\ \b\b| \b\b/ \b\b- \b\b\\ \b\b| \b\b/ \b\b- \b\b\\ \b\b| \b\b/ \b\b- \b\b\\ \b\b| \b\b/ \b\b- \b\b\\ \b\b| \b\b/ \b\b- \b\b\\ \b\b| \b\b/ \b\b- \b\b\\ \b\b| \b\b/ \b\b- \b\b\\ \b\b| \b\b/ \b\b- \b\b\\ \b\b| \b\b/ \b\b- \b\b\\ \b\b| \b\b/ \b\b- \b\b\\ \b\b| \b\b/ \b\b- \b\b\\ \b\b| \b\b/ \b\b- \b\b\\ \b\b| \b\b/ \b\b- \b\b\\ \b\b| \b\b/ \b\b- \b\b\\ \b\b| \b\b/ \b\b- \b\b\\ \b\b| \b\b/ \b\b- \b\b\\ \b\b| \b\b/ \b\b- \b\b\\ \b\b| \b\b/ \b\b- \b\b\\ \b\b| \b\b/ \b\b- \b\b\\ \b\b| \b\b/ \b\b- \b\b\\ \b\b| \b\b/ \b\b- \b\b\\ \b\b| \b\b/ \b\b- \b\b\\ \b\b| \b\b/ \b\b- \b\b\\ \b\b| \b\b/ \b\b- \b\b\\ \b\b| \b\b/ \b\b- \b\b\\ \b\b| \b\b/ \b\b- \b\b\\ \b\b| \b\b/ \b\b- \b\b\\ \b\b| \b\b/ \b\b- \b\b\\ \b\b| \b\b/ \b\b- \b\b\\ \b\b| \b\b/ \b\b- \b\b\\ \b\b| \b\b/ \b\b- \b\b\\ \b\b| \b\b/ \b\b- \b\b\\ \b\b| \b\b/ \b\b- \b\b\\ \b\b| \b\b/ \b\b- \b\b\\ \b\b| \b\b/ \b\b- \b\b\\ \b\b| \b\b/ \b\b- \b\b\\ \b\b| \b\b/ \b\b- \b\b\\ \b\b| \b\b/ \b\b- \b\b\\ \b\b| \b\b/ \b\b- \b\b\\ \b\b| \b\bdone\n"
          ],
          "name": "stdout"
        }
      ]
    },
    {
      "cell_type": "markdown",
      "metadata": {
        "id": "gCWIEA0q2ph7"
      },
      "source": [
        "##Load csv File"
      ]
    },
    {
      "cell_type": "markdown",
      "metadata": {
        "id": "3sy1WOwr3RTc"
      },
      "source": [
        "Steps:\r\n",
        "1. mount gdrive.\r\n",
        "2. see the list by using '!ls' command and look for the csv file of interest.\r\n",
        "3. load the csv file containing bioactivity data into a new dataframe using pandas. (if it is still showing \"FileNotFound error\" then download the file, rename it, upload it and then load)"
      ]
    },
    {
      "cell_type": "code",
      "metadata": {
        "colab": {
          "base_uri": "https://localhost:8080/"
        },
        "id": "1Dho-S8rzFny",
        "outputId": "04618eb2-7c4f-4f2f-9623-5b5b0659c336"
      },
      "source": [
        "from google.colab import drive\r\n",
        "drive.mount('/content/gdrive/', force_remount=True)"
      ],
      "execution_count": 3,
      "outputs": [
        {
          "output_type": "stream",
          "text": [
            "Mounted at /content/gdrive/\n"
          ],
          "name": "stdout"
        }
      ]
    },
    {
      "cell_type": "code",
      "metadata": {
        "colab": {
          "base_uri": "https://localhost:8080/"
        },
        "id": "YzrYjF6_zS5f",
        "outputId": "a9d2d2b6-d08b-4e1a-82a8-828a62146837"
      },
      "source": [
        "!ls \"/content/gdrive/My Drive/Colab Notebooks/\""
      ],
      "execution_count": 4,
      "outputs": [
        {
          "output_type": "stream",
          "text": [
            "'Copy of Influenza A_edited_Data analysis.ipynb'\n",
            "'Copy of Influenza A edited.ipynb'\n",
            "'Copy of Penicillin_Bioactivity_Data (1).ipynb'\n",
            "'Copy of Penicillin_Bioactivity_Data (2).ipynb'\n",
            "'Copy of Penicillin_Bioactivity_Data.ipynb'\n",
            " data\n",
            " First.ipynb\n",
            "'Influenza A_Bioactivity_Data_Part 2.pynb'\n",
            "'Influenza A correction.pynb'\n",
            "'Influenza A_edited_Data analysis.ipynb'\n",
            "'Influenza A edited.ipynb'\n",
            "'Influenza A.ipynb'\n",
            " lulu\n",
            " Penicillin_Exploratory_data_analysis.ipynb\n",
            " Project2\n",
            " Untitled0.ipynb\n"
          ],
          "name": "stdout"
        }
      ]
    },
    {
      "cell_type": "code",
      "metadata": {
        "colab": {
          "base_uri": "https://localhost:8080/"
        },
        "id": "dW7EO2LvxxG2",
        "outputId": "c2fcf55d-0d8e-4495-dede-46904912a05b"
      },
      "source": [
        "!ls \"/content/gdrive/My Drive/Colab Notebooks/Project2\""
      ],
      "execution_count": 5,
      "outputs": [
        {
          "output_type": "stream",
          "text": [
            "pre_processed_data.csv\n"
          ],
          "name": "stdout"
        }
      ]
    },
    {
      "cell_type": "code",
      "metadata": {
        "id": "hfPsZHRMz1um"
      },
      "source": [
        "import pandas as pd\r\n",
        "dataf = pd.read_csv('pre_processed_data (1).csv')"
      ],
      "execution_count": 7,
      "outputs": []
    },
    {
      "cell_type": "code",
      "metadata": {
        "colab": {
          "base_uri": "https://localhost:8080/",
          "height": 402
        },
        "id": "OT0Gne5M1j_0",
        "outputId": "d2dbdca6-440d-48f4-c6e3-35d6d3db692b"
      },
      "source": [
        "dataf"
      ],
      "execution_count": 8,
      "outputs": [
        {
          "output_type": "execute_result",
          "data": {
            "text/html": [
              "<div>\n",
              "<style scoped>\n",
              "    .dataframe tbody tr th:only-of-type {\n",
              "        vertical-align: middle;\n",
              "    }\n",
              "\n",
              "    .dataframe tbody tr th {\n",
              "        vertical-align: top;\n",
              "    }\n",
              "\n",
              "    .dataframe thead th {\n",
              "        text-align: right;\n",
              "    }\n",
              "</style>\n",
              "<table border=\"1\" class=\"dataframe\">\n",
              "  <thead>\n",
              "    <tr style=\"text-align: right;\">\n",
              "      <th></th>\n",
              "      <th>molecule_chembl_id</th>\n",
              "      <th>standard_value</th>\n",
              "      <th>standard_type</th>\n",
              "      <th>canonical_smiles</th>\n",
              "      <th>Bioactivity_class</th>\n",
              "    </tr>\n",
              "  </thead>\n",
              "  <tbody>\n",
              "    <tr>\n",
              "      <th>0</th>\n",
              "      <td>CHEMBL6461</td>\n",
              "      <td>340000.000</td>\n",
              "      <td>IC50</td>\n",
              "      <td>C[C@]1(/C=C/C#N)[C@H](C(=O)[O-])N2C(=O)C[C@H]2...</td>\n",
              "      <td>Inactive</td>\n",
              "    </tr>\n",
              "    <tr>\n",
              "      <th>1</th>\n",
              "      <td>CHEMBL6461</td>\n",
              "      <td>170000.000</td>\n",
              "      <td>IC50</td>\n",
              "      <td>C[C@]1(/C=C/C#N)[C@H](C(=O)[O-])N2C(=O)C[C@H]2...</td>\n",
              "      <td>Inactive</td>\n",
              "    </tr>\n",
              "    <tr>\n",
              "      <th>2</th>\n",
              "      <td>CHEMBL332565</td>\n",
              "      <td>286000.000</td>\n",
              "      <td>IC50</td>\n",
              "      <td>C[C@]1(/C=C\\c2cncs2)[C@H](C(=O)[O-])N2C(=O)C[C...</td>\n",
              "      <td>Inactive</td>\n",
              "    </tr>\n",
              "    <tr>\n",
              "      <th>3</th>\n",
              "      <td>CHEMBL332565</td>\n",
              "      <td>286000.000</td>\n",
              "      <td>IC50</td>\n",
              "      <td>C[C@]1(/C=C\\c2cncs2)[C@H](C(=O)[O-])N2C(=O)C[C...</td>\n",
              "      <td>Inactive</td>\n",
              "    </tr>\n",
              "    <tr>\n",
              "      <th>4</th>\n",
              "      <td>CHEMBL121924</td>\n",
              "      <td>300000.000</td>\n",
              "      <td>IC50</td>\n",
              "      <td>C[C@]1(/C=C\\c2ccccn2)[C@H](C(=O)[O-])N2C(=O)C[...</td>\n",
              "      <td>Inactive</td>\n",
              "    </tr>\n",
              "    <tr>\n",
              "      <th>5</th>\n",
              "      <td>CHEMBL121924</td>\n",
              "      <td>145000.000</td>\n",
              "      <td>IC50</td>\n",
              "      <td>C[C@]1(/C=C\\c2ccccn2)[C@H](C(=O)[O-])N2C(=O)C[...</td>\n",
              "      <td>Inactive</td>\n",
              "    </tr>\n",
              "    <tr>\n",
              "      <th>6</th>\n",
              "      <td>CHEMBL333330</td>\n",
              "      <td>300000.000</td>\n",
              "      <td>IC50</td>\n",
              "      <td>C[C@]1(/C=C/c2cncs2)[C@H](C(=O)O)N2C(=O)C[C@H]...</td>\n",
              "      <td>Inactive</td>\n",
              "    </tr>\n",
              "    <tr>\n",
              "      <th>7</th>\n",
              "      <td>CHEMBL333330</td>\n",
              "      <td>28000.000</td>\n",
              "      <td>IC50</td>\n",
              "      <td>C[C@]1(/C=C/c2cncs2)[C@H](C(=O)O)N2C(=O)C[C@H]...</td>\n",
              "      <td>Inactive</td>\n",
              "    </tr>\n",
              "    <tr>\n",
              "      <th>8</th>\n",
              "      <td>CHEMBL123481</td>\n",
              "      <td>300000.000</td>\n",
              "      <td>IC50</td>\n",
              "      <td>C[C@]1(/C=C/C[n+]2ccccc2)[C@H](C(=O)O)N2C(=O)C...</td>\n",
              "      <td>Inactive</td>\n",
              "    </tr>\n",
              "    <tr>\n",
              "      <th>9</th>\n",
              "      <td>CHEMBL123481</td>\n",
              "      <td>30000.000</td>\n",
              "      <td>IC50</td>\n",
              "      <td>C[C@]1(/C=C/C[n+]2ccccc2)[C@H](C(=O)O)N2C(=O)C...</td>\n",
              "      <td>Inactive</td>\n",
              "    </tr>\n",
              "    <tr>\n",
              "      <th>10</th>\n",
              "      <td>CHEMBL1652606</td>\n",
              "      <td>0.050</td>\n",
              "      <td>IC50</td>\n",
              "      <td>Cc1oc(=O)oc1COC(=O)N1CC[C@@H](N2CC/C(=C\\C3=C(C...</td>\n",
              "      <td>Active</td>\n",
              "    </tr>\n",
              "    <tr>\n",
              "      <th>11</th>\n",
              "      <td>CHEMBL501122</td>\n",
              "      <td>0.049</td>\n",
              "      <td>IC50</td>\n",
              "      <td>CCO/N=C(\\C(=O)N[C@@H]1C(=O)N2C(C(=O)[O-])=C(Sc...</td>\n",
              "      <td>Active</td>\n",
              "    </tr>\n",
              "  </tbody>\n",
              "</table>\n",
              "</div>"
            ],
            "text/plain": [
              "   molecule_chembl_id  ...  Bioactivity_class\n",
              "0          CHEMBL6461  ...           Inactive\n",
              "1          CHEMBL6461  ...           Inactive\n",
              "2        CHEMBL332565  ...           Inactive\n",
              "3        CHEMBL332565  ...           Inactive\n",
              "4        CHEMBL121924  ...           Inactive\n",
              "5        CHEMBL121924  ...           Inactive\n",
              "6        CHEMBL333330  ...           Inactive\n",
              "7        CHEMBL333330  ...           Inactive\n",
              "8        CHEMBL123481  ...           Inactive\n",
              "9        CHEMBL123481  ...           Inactive\n",
              "10      CHEMBL1652606  ...             Active\n",
              "11       CHEMBL501122  ...             Active\n",
              "\n",
              "[12 rows x 5 columns]"
            ]
          },
          "metadata": {
            "tags": []
          },
          "execution_count": 8
        }
      ]
    },
    {
      "cell_type": "markdown",
      "metadata": {
        "id": "_SoMDQkk5Ybs"
      },
      "source": [
        "#**Calculate lipinski descriptors**"
      ]
    },
    {
      "cell_type": "markdown",
      "metadata": {
        "id": "t4Ft-syu5rAw"
      },
      "source": [
        "Christopher Lipinski's set of rule-of-thumb for evaluating the druglikeness of compounds. \r\n",
        "\r\n",
        "\r\n",
        "---\r\n",
        "\r\n",
        "---\r\n",
        "\r\n",
        "\r\n",
        "\r\n",
        "\r\n",
        "The Lipinski's Rule stated the following:\r\n",
        "*   Molecular weight < 500 Dalton\r\n",
        "*   Octanol-water partition coefficient (LogP) < 5\r\n",
        "*   Hydrogen bond donors < 5\r\n",
        "*   Hydrogen bond acceptors < 10\r\n",
        "\r\n",
        "\r\n"
      ]
    },
    {
      "cell_type": "code",
      "metadata": {
        "id": "DXeJeBQW1-J8"
      },
      "source": [
        "import numpy as np\r\n",
        "from rdkit import Chem\r\n",
        "from rdkit.Chem import Descriptors, Lipinski \r\n",
        "\r\n",
        "# Inspired by: https://codeocean.com/explore/capsules?query=tag:data-curation\r\n",
        "\r\n",
        "def lipinski(smiles, verbose=False):\r\n",
        "\r\n",
        "    moldata= []\r\n",
        "    for elem in smiles:\r\n",
        "        mol=Chem.MolFromSmiles(elem) \r\n",
        "        moldata.append(mol)\r\n",
        "       \r\n",
        "    baseData= np.arange(1,1)\r\n",
        "    i=0  \r\n",
        "    for mol in moldata:        \r\n",
        "       \r\n",
        "        desc_MolWt = Descriptors.MolWt(mol)\r\n",
        "        desc_MolLogP = Descriptors.MolLogP(mol)\r\n",
        "        desc_NumHDonors = Lipinski.NumHDonors(mol)\r\n",
        "        desc_NumHAcceptors = Lipinski.NumHAcceptors(mol)\r\n",
        "           \r\n",
        "        row = np.array([desc_MolWt,\r\n",
        "                        desc_MolLogP,\r\n",
        "                        desc_NumHDonors,\r\n",
        "                        desc_NumHAcceptors])   \r\n",
        "    \r\n",
        "        if(i==0):\r\n",
        "            baseData=row\r\n",
        "        else:\r\n",
        "            baseData=np.vstack([baseData, row])\r\n",
        "        i=i+1      \r\n",
        "    \r\n",
        "    columnNames=[\"MW\",\"LogP\",\"NumHDonors\",\"NumHAcceptors\"]   \r\n",
        "    descriptors = pd.DataFrame(data=baseData,columns=columnNames)\r\n",
        "    \r\n",
        "    return descriptors"
      ],
      "execution_count": 9,
      "outputs": []
    },
    {
      "cell_type": "markdown",
      "metadata": {
        "id": "eRdLul7fxoAF"
      },
      "source": [
        "#To calculate lipinski descriptors, need to look for the canonical smiles\r\n",
        "\r\n",
        "This function will find out the MW, No. Of H acceptors and donars and LogP value of each.\r\n"
      ]
    },
    {
      "cell_type": "code",
      "metadata": {
        "id": "pzrRknFT7Kpr"
      },
      "source": [
        "lipinski_df=lipinski(dataf.canonical_smiles)"
      ],
      "execution_count": 12,
      "outputs": []
    },
    {
      "cell_type": "code",
      "metadata": {
        "colab": {
          "base_uri": "https://localhost:8080/",
          "height": 402
        },
        "id": "_8LAxI0yxSCV",
        "outputId": "b8879e16-ed39-4fb4-fe9c-a4f0115910c8"
      },
      "source": [
        "lipinski_df"
      ],
      "execution_count": 13,
      "outputs": [
        {
          "output_type": "execute_result",
          "data": {
            "text/html": [
              "<div>\n",
              "<style scoped>\n",
              "    .dataframe tbody tr th:only-of-type {\n",
              "        vertical-align: middle;\n",
              "    }\n",
              "\n",
              "    .dataframe tbody tr th {\n",
              "        vertical-align: top;\n",
              "    }\n",
              "\n",
              "    .dataframe thead th {\n",
              "        text-align: right;\n",
              "    }\n",
              "</style>\n",
              "<table border=\"1\" class=\"dataframe\">\n",
              "  <thead>\n",
              "    <tr style=\"text-align: right;\">\n",
              "      <th></th>\n",
              "      <th>MW</th>\n",
              "      <th>LogP</th>\n",
              "      <th>NumHDonors</th>\n",
              "      <th>NumHAcceptors</th>\n",
              "    </tr>\n",
              "  </thead>\n",
              "  <tbody>\n",
              "    <tr>\n",
              "      <th>0</th>\n",
              "      <td>292.248</td>\n",
              "      <td>-5.06582</td>\n",
              "      <td>0.0</td>\n",
              "      <td>6.0</td>\n",
              "    </tr>\n",
              "    <tr>\n",
              "      <th>1</th>\n",
              "      <td>292.248</td>\n",
              "      <td>-5.06582</td>\n",
              "      <td>0.0</td>\n",
              "      <td>6.0</td>\n",
              "    </tr>\n",
              "    <tr>\n",
              "      <th>2</th>\n",
              "      <td>350.353</td>\n",
              "      <td>-3.97570</td>\n",
              "      <td>0.0</td>\n",
              "      <td>7.0</td>\n",
              "    </tr>\n",
              "    <tr>\n",
              "      <th>3</th>\n",
              "      <td>350.353</td>\n",
              "      <td>-3.97570</td>\n",
              "      <td>0.0</td>\n",
              "      <td>7.0</td>\n",
              "    </tr>\n",
              "    <tr>\n",
              "      <th>4</th>\n",
              "      <td>344.324</td>\n",
              "      <td>-4.03720</td>\n",
              "      <td>0.0</td>\n",
              "      <td>6.0</td>\n",
              "    </tr>\n",
              "    <tr>\n",
              "      <th>5</th>\n",
              "      <td>344.324</td>\n",
              "      <td>-4.03720</td>\n",
              "      <td>0.0</td>\n",
              "      <td>6.0</td>\n",
              "    </tr>\n",
              "    <tr>\n",
              "      <th>6</th>\n",
              "      <td>328.371</td>\n",
              "      <td>0.35500</td>\n",
              "      <td>1.0</td>\n",
              "      <td>6.0</td>\n",
              "    </tr>\n",
              "    <tr>\n",
              "      <th>7</th>\n",
              "      <td>328.371</td>\n",
              "      <td>0.35500</td>\n",
              "      <td>1.0</td>\n",
              "      <td>6.0</td>\n",
              "    </tr>\n",
              "    <tr>\n",
              "      <th>8</th>\n",
              "      <td>486.446</td>\n",
              "      <td>-0.21960</td>\n",
              "      <td>1.0</td>\n",
              "      <td>7.0</td>\n",
              "    </tr>\n",
              "    <tr>\n",
              "      <th>9</th>\n",
              "      <td>486.446</td>\n",
              "      <td>-0.21960</td>\n",
              "      <td>1.0</td>\n",
              "      <td>7.0</td>\n",
              "    </tr>\n",
              "    <tr>\n",
              "      <th>10</th>\n",
              "      <td>690.673</td>\n",
              "      <td>-0.53838</td>\n",
              "      <td>4.0</td>\n",
              "      <td>16.0</td>\n",
              "    </tr>\n",
              "    <tr>\n",
              "      <th>11</th>\n",
              "      <td>684.700</td>\n",
              "      <td>-0.11500</td>\n",
              "      <td>4.0</td>\n",
              "      <td>14.0</td>\n",
              "    </tr>\n",
              "  </tbody>\n",
              "</table>\n",
              "</div>"
            ],
            "text/plain": [
              "         MW     LogP  NumHDonors  NumHAcceptors\n",
              "0   292.248 -5.06582         0.0            6.0\n",
              "1   292.248 -5.06582         0.0            6.0\n",
              "2   350.353 -3.97570         0.0            7.0\n",
              "3   350.353 -3.97570         0.0            7.0\n",
              "4   344.324 -4.03720         0.0            6.0\n",
              "5   344.324 -4.03720         0.0            6.0\n",
              "6   328.371  0.35500         1.0            6.0\n",
              "7   328.371  0.35500         1.0            6.0\n",
              "8   486.446 -0.21960         1.0            7.0\n",
              "9   486.446 -0.21960         1.0            7.0\n",
              "10  690.673 -0.53838         4.0           16.0\n",
              "11  684.700 -0.11500         4.0           14.0"
            ]
          },
          "metadata": {
            "tags": []
          },
          "execution_count": 13
        }
      ]
    },
    {
      "cell_type": "markdown",
      "metadata": {
        "id": "eWnBu8o7yXbF"
      },
      "source": [
        "Combine them with the dataframe"
      ]
    },
    {
      "cell_type": "code",
      "metadata": {
        "id": "mYAOC5-Kxksc"
      },
      "source": [
        "combine = pd.concat([dataf,lipinski_df] , axis=1)"
      ],
      "execution_count": 14,
      "outputs": []
    },
    {
      "cell_type": "code",
      "metadata": {
        "colab": {
          "base_uri": "https://localhost:8080/",
          "height": 624
        },
        "id": "D2cQUV-qy2Z0",
        "outputId": "3c91dcc3-aca6-4d8a-d0a0-829f1d29d895"
      },
      "source": [
        "combine"
      ],
      "execution_count": 15,
      "outputs": [
        {
          "output_type": "execute_result",
          "data": {
            "text/html": [
              "<div>\n",
              "<style scoped>\n",
              "    .dataframe tbody tr th:only-of-type {\n",
              "        vertical-align: middle;\n",
              "    }\n",
              "\n",
              "    .dataframe tbody tr th {\n",
              "        vertical-align: top;\n",
              "    }\n",
              "\n",
              "    .dataframe thead th {\n",
              "        text-align: right;\n",
              "    }\n",
              "</style>\n",
              "<table border=\"1\" class=\"dataframe\">\n",
              "  <thead>\n",
              "    <tr style=\"text-align: right;\">\n",
              "      <th></th>\n",
              "      <th>molecule_chembl_id</th>\n",
              "      <th>standard_value</th>\n",
              "      <th>standard_type</th>\n",
              "      <th>canonical_smiles</th>\n",
              "      <th>Bioactivity_class</th>\n",
              "      <th>MW</th>\n",
              "      <th>LogP</th>\n",
              "      <th>NumHDonors</th>\n",
              "      <th>NumHAcceptors</th>\n",
              "    </tr>\n",
              "  </thead>\n",
              "  <tbody>\n",
              "    <tr>\n",
              "      <th>0</th>\n",
              "      <td>CHEMBL6461</td>\n",
              "      <td>340000.000</td>\n",
              "      <td>IC50</td>\n",
              "      <td>C[C@]1(/C=C/C#N)[C@H](C(=O)[O-])N2C(=O)C[C@H]2...</td>\n",
              "      <td>Inactive</td>\n",
              "      <td>292.248</td>\n",
              "      <td>-5.06582</td>\n",
              "      <td>0.0</td>\n",
              "      <td>6.0</td>\n",
              "    </tr>\n",
              "    <tr>\n",
              "      <th>1</th>\n",
              "      <td>CHEMBL6461</td>\n",
              "      <td>170000.000</td>\n",
              "      <td>IC50</td>\n",
              "      <td>C[C@]1(/C=C/C#N)[C@H](C(=O)[O-])N2C(=O)C[C@H]2...</td>\n",
              "      <td>Inactive</td>\n",
              "      <td>292.248</td>\n",
              "      <td>-5.06582</td>\n",
              "      <td>0.0</td>\n",
              "      <td>6.0</td>\n",
              "    </tr>\n",
              "    <tr>\n",
              "      <th>2</th>\n",
              "      <td>CHEMBL332565</td>\n",
              "      <td>286000.000</td>\n",
              "      <td>IC50</td>\n",
              "      <td>C[C@]1(/C=C\\c2cncs2)[C@H](C(=O)[O-])N2C(=O)C[C...</td>\n",
              "      <td>Inactive</td>\n",
              "      <td>350.353</td>\n",
              "      <td>-3.97570</td>\n",
              "      <td>0.0</td>\n",
              "      <td>7.0</td>\n",
              "    </tr>\n",
              "    <tr>\n",
              "      <th>3</th>\n",
              "      <td>CHEMBL332565</td>\n",
              "      <td>286000.000</td>\n",
              "      <td>IC50</td>\n",
              "      <td>C[C@]1(/C=C\\c2cncs2)[C@H](C(=O)[O-])N2C(=O)C[C...</td>\n",
              "      <td>Inactive</td>\n",
              "      <td>350.353</td>\n",
              "      <td>-3.97570</td>\n",
              "      <td>0.0</td>\n",
              "      <td>7.0</td>\n",
              "    </tr>\n",
              "    <tr>\n",
              "      <th>4</th>\n",
              "      <td>CHEMBL121924</td>\n",
              "      <td>300000.000</td>\n",
              "      <td>IC50</td>\n",
              "      <td>C[C@]1(/C=C\\c2ccccn2)[C@H](C(=O)[O-])N2C(=O)C[...</td>\n",
              "      <td>Inactive</td>\n",
              "      <td>344.324</td>\n",
              "      <td>-4.03720</td>\n",
              "      <td>0.0</td>\n",
              "      <td>6.0</td>\n",
              "    </tr>\n",
              "    <tr>\n",
              "      <th>5</th>\n",
              "      <td>CHEMBL121924</td>\n",
              "      <td>145000.000</td>\n",
              "      <td>IC50</td>\n",
              "      <td>C[C@]1(/C=C\\c2ccccn2)[C@H](C(=O)[O-])N2C(=O)C[...</td>\n",
              "      <td>Inactive</td>\n",
              "      <td>344.324</td>\n",
              "      <td>-4.03720</td>\n",
              "      <td>0.0</td>\n",
              "      <td>6.0</td>\n",
              "    </tr>\n",
              "    <tr>\n",
              "      <th>6</th>\n",
              "      <td>CHEMBL333330</td>\n",
              "      <td>300000.000</td>\n",
              "      <td>IC50</td>\n",
              "      <td>C[C@]1(/C=C/c2cncs2)[C@H](C(=O)O)N2C(=O)C[C@H]...</td>\n",
              "      <td>Inactive</td>\n",
              "      <td>328.371</td>\n",
              "      <td>0.35500</td>\n",
              "      <td>1.0</td>\n",
              "      <td>6.0</td>\n",
              "    </tr>\n",
              "    <tr>\n",
              "      <th>7</th>\n",
              "      <td>CHEMBL333330</td>\n",
              "      <td>28000.000</td>\n",
              "      <td>IC50</td>\n",
              "      <td>C[C@]1(/C=C/c2cncs2)[C@H](C(=O)O)N2C(=O)C[C@H]...</td>\n",
              "      <td>Inactive</td>\n",
              "      <td>328.371</td>\n",
              "      <td>0.35500</td>\n",
              "      <td>1.0</td>\n",
              "      <td>6.0</td>\n",
              "    </tr>\n",
              "    <tr>\n",
              "      <th>8</th>\n",
              "      <td>CHEMBL123481</td>\n",
              "      <td>300000.000</td>\n",
              "      <td>IC50</td>\n",
              "      <td>C[C@]1(/C=C/C[n+]2ccccc2)[C@H](C(=O)O)N2C(=O)C...</td>\n",
              "      <td>Inactive</td>\n",
              "      <td>486.446</td>\n",
              "      <td>-0.21960</td>\n",
              "      <td>1.0</td>\n",
              "      <td>7.0</td>\n",
              "    </tr>\n",
              "    <tr>\n",
              "      <th>9</th>\n",
              "      <td>CHEMBL123481</td>\n",
              "      <td>30000.000</td>\n",
              "      <td>IC50</td>\n",
              "      <td>C[C@]1(/C=C/C[n+]2ccccc2)[C@H](C(=O)O)N2C(=O)C...</td>\n",
              "      <td>Inactive</td>\n",
              "      <td>486.446</td>\n",
              "      <td>-0.21960</td>\n",
              "      <td>1.0</td>\n",
              "      <td>7.0</td>\n",
              "    </tr>\n",
              "    <tr>\n",
              "      <th>10</th>\n",
              "      <td>CHEMBL1652606</td>\n",
              "      <td>0.050</td>\n",
              "      <td>IC50</td>\n",
              "      <td>Cc1oc(=O)oc1COC(=O)N1CC[C@@H](N2CC/C(=C\\C3=C(C...</td>\n",
              "      <td>Active</td>\n",
              "      <td>690.673</td>\n",
              "      <td>-0.53838</td>\n",
              "      <td>4.0</td>\n",
              "      <td>16.0</td>\n",
              "    </tr>\n",
              "    <tr>\n",
              "      <th>11</th>\n",
              "      <td>CHEMBL501122</td>\n",
              "      <td>0.049</td>\n",
              "      <td>IC50</td>\n",
              "      <td>CCO/N=C(\\C(=O)N[C@@H]1C(=O)N2C(C(=O)[O-])=C(Sc...</td>\n",
              "      <td>Active</td>\n",
              "      <td>684.700</td>\n",
              "      <td>-0.11500</td>\n",
              "      <td>4.0</td>\n",
              "      <td>14.0</td>\n",
              "    </tr>\n",
              "  </tbody>\n",
              "</table>\n",
              "</div>"
            ],
            "text/plain": [
              "   molecule_chembl_id  standard_value  ... NumHDonors NumHAcceptors\n",
              "0          CHEMBL6461      340000.000  ...        0.0           6.0\n",
              "1          CHEMBL6461      170000.000  ...        0.0           6.0\n",
              "2        CHEMBL332565      286000.000  ...        0.0           7.0\n",
              "3        CHEMBL332565      286000.000  ...        0.0           7.0\n",
              "4        CHEMBL121924      300000.000  ...        0.0           6.0\n",
              "5        CHEMBL121924      145000.000  ...        0.0           6.0\n",
              "6        CHEMBL333330      300000.000  ...        1.0           6.0\n",
              "7        CHEMBL333330       28000.000  ...        1.0           6.0\n",
              "8        CHEMBL123481      300000.000  ...        1.0           7.0\n",
              "9        CHEMBL123481       30000.000  ...        1.0           7.0\n",
              "10      CHEMBL1652606           0.050  ...        4.0          16.0\n",
              "11       CHEMBL501122           0.049  ...        4.0          14.0\n",
              "\n",
              "[12 rows x 9 columns]"
            ]
          },
          "metadata": {
            "tags": []
          },
          "execution_count": 15
        }
      ]
    },
    {
      "cell_type": "markdown",
      "metadata": {
        "id": "8b3rE4Pyz10U"
      },
      "source": [
        "#Exploratory Data Analysis"
      ]
    },
    {
      "cell_type": "markdown",
      "metadata": {
        "id": "qHD5Qn1Sz_f-"
      },
      "source": [
        "##import libraries\r\n",
        "\r\n"
      ]
    },
    {
      "cell_type": "code",
      "metadata": {
        "id": "9SD5Wfnqz8Kg"
      },
      "source": [
        "import seaborn as sns\r\n",
        "import matplotlib.pyplot as plt"
      ],
      "execution_count": 18,
      "outputs": []
    },
    {
      "cell_type": "code",
      "metadata": {
        "id": "E8sRDMMc0Iyf"
      },
      "source": [
        ""
      ],
      "execution_count": null,
      "outputs": []
    },
    {
      "cell_type": "markdown",
      "metadata": {
        "id": "qTCp6ccU0fkk"
      },
      "source": [
        "Types of data vizualization\r\n",
        "*   Correlation\r\n",
        "*   Frequency Plot\r\n",
        "*   Scatter Plot\r\n",
        "*   Box Plot\r\n",
        "*   Histogram\r\n",
        "\r\n",
        "\r\n",
        "\r\n",
        "\r\n",
        "\r\n"
      ]
    },
    {
      "cell_type": "markdown",
      "metadata": {
        "id": "oO_w9f3h4zZe"
      },
      "source": [
        "To differentiate and vizualize the frequency of active and inactive biactivity class, frequency plot can be done with the 'countplot' code"
      ]
    },
    {
      "cell_type": "code",
      "metadata": {
        "colab": {
          "base_uri": "https://localhost:8080/",
          "height": 405
        },
        "id": "bIwhDSvB5RSB",
        "outputId": "d259e048-d49f-4669-f580-62de2dc386fe"
      },
      "source": [
        "#Frequency Plot for Bioactivity class\r\n",
        "plt.figure(figsize=(6,6))\r\n",
        "sns. countplot(x='Bioactivity_class', data=combine)\r\n",
        "plt.xlabel('bioactivity class')\r\n",
        "plt.ylabel('Frequency')\r\n"
      ],
      "execution_count": 24,
      "outputs": [
        {
          "output_type": "execute_result",
          "data": {
            "text/plain": [
              "Text(0, 0.5, 'Frequency')"
            ]
          },
          "metadata": {
            "tags": []
          },
          "execution_count": 24
        },
        {
          "output_type": "display_data",
          "data": {
            "image/png": "[encoded data removed]",
            "text/plain": [
              "<Figure size 432x432 with 1 Axes>"
            ]
          },
          "metadata": {
            "tags": [],
            "needs_background": "light"
          }
        }
      ]
    },
    {
      "cell_type": "markdown",
      "metadata": {
        "id": "WlJCxmgH9kqp"
      },
      "source": [
        "#Check for the correlation"
      ]
    },
    {
      "cell_type": "code",
      "metadata": {
        "id": "iRKrK3Cu1pcW"
      },
      "source": [
        "\r\n",
        "r=combine.corr()"
      ],
      "execution_count": 19,
      "outputs": []
    },
    {
      "cell_type": "code",
      "metadata": {
        "colab": {
          "base_uri": "https://localhost:8080/",
          "height": 195
        },
        "id": "h3slYSSp1zs0",
        "outputId": "1bea52ea-4c19-4ca5-a21c-1d9416ad4734"
      },
      "source": [
        "r"
      ],
      "execution_count": 20,
      "outputs": [
        {
          "output_type": "execute_result",
          "data": {
            "text/html": [
              "<div>\n",
              "<style scoped>\n",
              "    .dataframe tbody tr th:only-of-type {\n",
              "        vertical-align: middle;\n",
              "    }\n",
              "\n",
              "    .dataframe tbody tr th {\n",
              "        vertical-align: top;\n",
              "    }\n",
              "\n",
              "    .dataframe thead th {\n",
              "        text-align: right;\n",
              "    }\n",
              "</style>\n",
              "<table border=\"1\" class=\"dataframe\">\n",
              "  <thead>\n",
              "    <tr style=\"text-align: right;\">\n",
              "      <th></th>\n",
              "      <th>standard_value</th>\n",
              "      <th>MW</th>\n",
              "      <th>LogP</th>\n",
              "      <th>NumHDonors</th>\n",
              "      <th>NumHAcceptors</th>\n",
              "    </tr>\n",
              "  </thead>\n",
              "  <tbody>\n",
              "    <tr>\n",
              "      <th>standard_value</th>\n",
              "      <td>1.000000</td>\n",
              "      <td>-0.638499</td>\n",
              "      <td>-0.520457</td>\n",
              "      <td>-0.691895</td>\n",
              "      <td>-0.609770</td>\n",
              "    </tr>\n",
              "    <tr>\n",
              "      <th>MW</th>\n",
              "      <td>-0.638499</td>\n",
              "      <td>1.000000</td>\n",
              "      <td>0.574256</td>\n",
              "      <td>0.931511</td>\n",
              "      <td>0.925139</td>\n",
              "    </tr>\n",
              "    <tr>\n",
              "      <th>LogP</th>\n",
              "      <td>-0.520457</td>\n",
              "      <td>0.574256</td>\n",
              "      <td>1.000000</td>\n",
              "      <td>0.651430</td>\n",
              "      <td>0.396429</td>\n",
              "    </tr>\n",
              "    <tr>\n",
              "      <th>NumHDonors</th>\n",
              "      <td>-0.691895</td>\n",
              "      <td>0.931511</td>\n",
              "      <td>0.651430</td>\n",
              "      <td>1.000000</td>\n",
              "      <td>0.939418</td>\n",
              "    </tr>\n",
              "    <tr>\n",
              "      <th>NumHAcceptors</th>\n",
              "      <td>-0.609770</td>\n",
              "      <td>0.925139</td>\n",
              "      <td>0.396429</td>\n",
              "      <td>0.939418</td>\n",
              "      <td>1.000000</td>\n",
              "    </tr>\n",
              "  </tbody>\n",
              "</table>\n",
              "</div>"
            ],
            "text/plain": [
              "                standard_value        MW      LogP  NumHDonors  NumHAcceptors\n",
              "standard_value        1.000000 -0.638499 -0.520457   -0.691895      -0.609770\n",
              "MW                   -0.638499  1.000000  0.574256    0.931511       0.925139\n",
              "LogP                 -0.520457  0.574256  1.000000    0.651430       0.396429\n",
              "NumHDonors           -0.691895  0.931511  0.651430    1.000000       0.939418\n",
              "NumHAcceptors        -0.609770  0.925139  0.396429    0.939418       1.000000"
            ]
          },
          "metadata": {
            "tags": []
          },
          "execution_count": 20
        }
      ]
    },
    {
      "cell_type": "markdown",
      "metadata": {
        "id": "kYTXEp_a1_ae"
      },
      "source": [
        "Heat map"
      ]
    },
    {
      "cell_type": "code",
      "metadata": {
        "colab": {
          "base_uri": "https://localhost:8080/",
          "height": 357
        },
        "id": "OQJT-Hkt1077",
        "outputId": "4a520344-937d-410f-affd-e00507eed916"
      },
      "source": [
        "sns.heatmap(r)"
      ],
      "execution_count": 21,
      "outputs": [
        {
          "output_type": "execute_result",
          "data": {
            "text/plain": [
              "<matplotlib.axes._subplots.AxesSubplot at 0x7fdf3c71e4e0>"
            ]
          },
          "metadata": {
            "tags": []
          },
          "execution_count": 21
        },
        {
          "output_type": "display_data",
          "data": {
            "image/png": "[encoded data removed]",
            "text/plain": [
              "<Figure size 432x288 with 2 Axes>"
            ]
          },
          "metadata": {
            "tags": [],
            "needs_background": "light"
          }
        }
      ]
    },
    {
      "cell_type": "code",
      "metadata": {
        "colab": {
          "base_uri": "https://localhost:8080/",
          "height": 920
        },
        "id": "X-NXmNFA2GnP",
        "outputId": "4e8faed8-8aef-434f-a1de-3eb9c9c6ebe0"
      },
      "source": [
        "sns.pairplot(r)"
      ],
      "execution_count": 22,
      "outputs": [
        {
          "output_type": "execute_result",
          "data": {
            "text/plain": [
              "<seaborn.axisgrid.PairGrid at 0x7fdf398399e8>"
            ]
          },
          "metadata": {
            "tags": []
          },
          "execution_count": 22
        },
        {
          "output_type": "display_data",
          "data": {
            "image/png": "[encoded data removed]",
            "text/plain": [
              "<Figure size 900x900 with 30 Axes>"
            ]
          },
          "metadata": {
            "tags": [],
            "needs_background": "light"
          }
        }
      ]
    },
    {
      "cell_type": "markdown",
      "metadata": {
        "id": "awEAIb_V9wgy"
      },
      "source": [
        "From the above heat map and pair plot correlation, it can be understood that, MW has a very good correaltion with No. of H acceptors, followed by No. H donars and poor relation with LogP "
      ]
    },
    {
      "cell_type": "markdown",
      "metadata": {
        "id": "IFZBxC9O-V3e"
      },
      "source": [
        "###Scatter plot"
      ]
    },
    {
      "cell_type": "code",
      "metadata": {
        "colab": {
          "base_uri": "https://localhost:8080/",
          "height": 405
        },
        "id": "Mehcq2gj3Jdk",
        "outputId": "3df4c228-84a7-42c2-b82a-9adfa2924afe"
      },
      "source": [
        "#MW with LogP\r\n",
        "plt.figure(figsize=(6,6))\r\n",
        "sns.scatterplot(x='MW', y='LogP' , data=combine, hue='Bioactivity_class' , edgecolor='black')\r\n",
        "\r\n",
        "plt.xlabel('MW')\r\n",
        "plt.ylabel('LogP')"
      ],
      "execution_count": 26,
      "outputs": [
        {
          "output_type": "execute_result",
          "data": {
            "text/plain": [
              "Text(0, 0.5, 'LogP')"
            ]
          },
          "metadata": {
            "tags": []
          },
          "execution_count": 26
        },
        {
          "output_type": "display_data",
          "data": {
            "image/png": "[encoded data removed]",
            "text/plain": [
              "<Figure size 432x432 with 1 Axes>"
            ]
          },
          "metadata": {
            "tags": [],
            "needs_background": "light"
          }
        }
      ]
    },
    {
      "cell_type": "code",
      "metadata": {
        "colab": {
          "base_uri": "https://localhost:8080/",
          "height": 405
        },
        "id": "unNCArfY_WQ0",
        "outputId": "1aebed13-e955-4483-90ea-bffcedea1717"
      },
      "source": [
        "#MW with LogP\r\n",
        "plt.figure(figsize=(6,6))\r\n",
        "sns.scatterplot(x='MW', y='LogP' , data=combine, hue='Bioactivity_class' , edgecolor='black')\r\n",
        "\r\n",
        "plt.xlabel('MW')\r\n",
        "plt.ylabel('LogP')"
      ],
      "execution_count": 31,
      "outputs": [
        {
          "output_type": "execute_result",
          "data": {
            "text/plain": [
              "Text(0, 0.5, 'LogP')"
            ]
          },
          "metadata": {
            "tags": []
          },
          "execution_count": 31
        },
        {
          "output_type": "display_data",
          "data": {
            "image/png": "[encoded data removed]",
            "text/plain": [
              "<Figure size 432x432 with 1 Axes>"
            ]
          },
          "metadata": {
            "tags": [],
            "needs_background": "light"
          }
        }
      ]
    },
    {
      "cell_type": "code",
      "metadata": {
        "colab": {
          "base_uri": "https://localhost:8080/",
          "height": 405
        },
        "id": "Qgq3NPTOAORk",
        "outputId": "beb9f54e-24ff-4800-eb0e-53d3c1f3c7db"
      },
      "source": [
        "#MW with NumH_Acceptors\r\n",
        "plt.figure(figsize=(6,6))\r\n",
        "sns.scatterplot(x='MW', y='NumHAcceptors' , data=combine, hue='Bioactivity_class' , edgecolor='black')\r\n",
        "\r\n",
        "plt.xlabel('MW')\r\n",
        "plt.ylabel('NumHAcceptors')"
      ],
      "execution_count": 32,
      "outputs": [
        {
          "output_type": "execute_result",
          "data": {
            "text/plain": [
              "Text(0, 0.5, 'NumHAcceptors')"
            ]
          },
          "metadata": {
            "tags": []
          },
          "execution_count": 32
        },
        {
          "output_type": "display_data",
          "data": {
            "image/png": "[encoded data removed]",
            "text/plain": [
              "<Figure size 432x432 with 1 Axes>"
            ]
          },
          "metadata": {
            "tags": [],
            "needs_background": "light"
          }
        }
      ]
    },
    {
      "cell_type": "code",
      "metadata": {
        "colab": {
          "base_uri": "https://localhost:8080/",
          "height": 405
        },
        "id": "Fefl5hVPBHhc",
        "outputId": "3509fcd7-18a7-4297-972d-de6a93c317f4"
      },
      "source": [
        "#MW with NumH_Donors\r\n",
        "plt.figure(figsize=(6,6))\r\n",
        "sns.scatterplot(x='MW', y='NumHDonors' , data=combine, hue='Bioactivity_class' , edgecolor='black')\r\n",
        "\r\n",
        "plt.xlabel('MW')\r\n",
        "plt.ylabel('NumHDonors')"
      ],
      "execution_count": 33,
      "outputs": [
        {
          "output_type": "execute_result",
          "data": {
            "text/plain": [
              "Text(0, 0.5, 'NumHDonors')"
            ]
          },
          "metadata": {
            "tags": []
          },
          "execution_count": 33
        },
        {
          "output_type": "display_data",
          "data": {
            "image/png": "[encoded data removed]",
            "text/plain": [
              "<Figure size 432x432 with 1 Axes>"
            ]
          },
          "metadata": {
            "tags": [],
            "needs_background": "light"
          }
        }
      ]
    },
    {
      "cell_type": "markdown",
      "metadata": {
        "id": "2CPUA6N9BbvC"
      },
      "source": [
        "###Box Plot"
      ]
    },
    {
      "cell_type": "code",
      "metadata": {
        "colab": {
          "base_uri": "https://localhost:8080/",
          "height": 405
        },
        "id": "x4VJ0k60BTua",
        "outputId": "c483647d-c449-4e06-bc46-987ee4ad62b7"
      },
      "source": [
        "#MW\r\n",
        "plt.figure(figsize=(6,6))\r\n",
        "sns.boxplot(x = 'Bioactivity_class', y = 'MW', data = combine)\r\n",
        "\r\n",
        "plt.xlabel('Bioactivity class')\r\n",
        "plt.ylabel('MW')"
      ],
      "execution_count": 37,
      "outputs": [
        {
          "output_type": "execute_result",
          "data": {
            "text/plain": [
              "Text(0, 0.5, 'MW')"
            ]
          },
          "metadata": {
            "tags": []
          },
          "execution_count": 37
        },
        {
          "output_type": "display_data",
          "data": {
            "image/png": "[encoded data removed]",
            "text/plain": [
              "<Figure size 432x432 with 1 Axes>"
            ]
          },
          "metadata": {
            "tags": [],
            "needs_background": "light"
          }
        }
      ]
    },
    {
      "cell_type": "code",
      "metadata": {
        "colab": {
          "base_uri": "https://localhost:8080/",
          "height": 405
        },
        "id": "FqpLwgNWB_b8",
        "outputId": "84790b81-ca4b-4aca-dc45-44ce2cef87e6"
      },
      "source": [
        "#LogP\r\n",
        "plt.figure(figsize=(6,6))\r\n",
        "sns.boxplot(x = 'Bioactivity_class', y = 'LogP', data = combine)\r\n",
        "\r\n",
        "plt.xlabel('Bioactivity class')\r\n",
        "plt.ylabel('LogP')"
      ],
      "execution_count": 38,
      "outputs": [
        {
          "output_type": "execute_result",
          "data": {
            "text/plain": [
              "Text(0, 0.5, 'LogP')"
            ]
          },
          "metadata": {
            "tags": []
          },
          "execution_count": 38
        },
        {
          "output_type": "display_data",
          "data": {
            "image/png": "[encoded data removed]",
            "text/plain": [
              "<Figure size 432x432 with 1 Axes>"
            ]
          },
          "metadata": {
            "tags": [],
            "needs_background": "light"
          }
        }
      ]
    },
    {
      "cell_type": "code",
      "metadata": {
        "colab": {
          "base_uri": "https://localhost:8080/",
          "height": 405
        },
        "id": "OSxRn-vSDGjO",
        "outputId": "d6a87520-b4a1-4c54-8f1b-e4bbc645e3df"
      },
      "source": [
        "#NumHAcceptors\r\n",
        "plt.figure(figsize=(6,6))\r\n",
        "sns.boxplot(x = 'Bioactivity_class', y = 'NumHAcceptors', data = combine)\r\n",
        "\r\n",
        "plt.xlabel('Bioactivity class')\r\n",
        "plt.ylabel('Num H Acceptors')"
      ],
      "execution_count": 39,
      "outputs": [
        {
          "output_type": "execute_result",
          "data": {
            "text/plain": [
              "Text(0, 0.5, 'Num H Acceptors')"
            ]
          },
          "metadata": {
            "tags": []
          },
          "execution_count": 39
        },
        {
          "output_type": "display_data",
          "data": {
            "image/png": "[encoded data removed]",
            "text/plain": [
              "<Figure size 432x432 with 1 Axes>"
            ]
          },
          "metadata": {
            "tags": [],
            "needs_background": "light"
          }
        }
      ]
    },
    {
      "cell_type": "code",
      "metadata": {
        "colab": {
          "base_uri": "https://localhost:8080/",
          "height": 405
        },
        "id": "qgETPjv_DfML",
        "outputId": "d70c2a5b-b2f6-4d72-ac16-9d01c1664e22"
      },
      "source": [
        "#NumHDonors\r\n",
        "plt.figure(figsize=(6,6))\r\n",
        "sns.boxplot(x = 'Bioactivity_class', y = 'NumHDonors', data = combine)\r\n",
        "\r\n",
        "plt.xlabel('Bioactivity class')\r\n",
        "plt.ylabel('Num H Donors')"
      ],
      "execution_count": 40,
      "outputs": [
        {
          "output_type": "execute_result",
          "data": {
            "text/plain": [
              "Text(0, 0.5, 'Num H Donors')"
            ]
          },
          "metadata": {
            "tags": []
          },
          "execution_count": 40
        },
        {
          "output_type": "display_data",
          "data": {
            "image/png": "[encoded data removed]",
            "text/plain": [
              "<Figure size 432x432 with 1 Axes>"
            ]
          },
          "metadata": {
            "tags": [],
            "needs_background": "light"
          }
        }
      ]
    },
    {
      "cell_type": "markdown",
      "metadata": {
        "id": "kbY-O5LUDqXV"
      },
      "source": [
        "##Interpretation from vizualization"
      ]
    },
    {
      "cell_type": "code",
      "metadata": {
        "id": "VXdxA-NjDzMk"
      },
      "source": [
        ""
      ],
      "execution_count": null,
      "outputs": []
    }
  ]
}